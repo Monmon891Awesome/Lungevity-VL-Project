{
  "nbformat": 4,
  "nbformat_minor": 0,
  "metadata": {
    "colab": {
      "provenance": [],
      "gpuType": "T4"
    },
    "kernelspec": {
      "name": "python3",
      "display_name": "Python 3"
    },
    "language_info": {
      "name": "python"
    },
    "accelerator": "GPU"
  },
  "cells": [
    {
      "cell_type": "code",
      "source": [
        "# Install required packages\n",
        "!pip install torch torchvision ultralytics\n",
        "!pip install kaggle kagglehub\n",
        "!pip install scikit-learn matplotlib seaborn pandas opencv-python pydicom albumentations"
      ],
      "metadata": {
        "colab": {
          "base_uri": "https://localhost:8080/"
        },
        "id": "xQAJhlI_yMIn",
        "outputId": "c220099c-5e77-463c-f7f8-529f3d6eb10e"
      },
      "execution_count": 1,
      "outputs": [
        {
          "output_type": "stream",
          "name": "stdout",
          "text": [
            "Requirement already satisfied: torch in /usr/local/lib/python3.11/dist-packages (2.6.0+cu124)\n",
            "Requirement already satisfied: torchvision in /usr/local/lib/python3.11/dist-packages (0.21.0+cu124)\n",
            "Requirement already satisfied: ultralytics in /usr/local/lib/python3.11/dist-packages (8.3.109)\n",
            "Requirement already satisfied: filelock in /usr/local/lib/python3.11/dist-packages (from torch) (3.18.0)\n",
            "Requirement already satisfied: typing-extensions>=4.10.0 in /usr/local/lib/python3.11/dist-packages (from torch) (4.13.1)\n",
            "Requirement already satisfied: networkx in /usr/local/lib/python3.11/dist-packages (from torch) (3.4.2)\n",
            "Requirement already satisfied: jinja2 in /usr/local/lib/python3.11/dist-packages (from torch) (3.1.6)\n",
            "Requirement already satisfied: fsspec in /usr/local/lib/python3.11/dist-packages (from torch) (2025.3.2)\n",
            "Requirement already satisfied: nvidia-cuda-nvrtc-cu12==12.4.127 in /usr/local/lib/python3.11/dist-packages (from torch) (12.4.127)\n",
            "Requirement already satisfied: nvidia-cuda-runtime-cu12==12.4.127 in /usr/local/lib/python3.11/dist-packages (from torch) (12.4.127)\n",
            "Requirement already satisfied: nvidia-cuda-cupti-cu12==12.4.127 in /usr/local/lib/python3.11/dist-packages (from torch) (12.4.127)\n",
            "Requirement already satisfied: nvidia-cudnn-cu12==9.1.0.70 in /usr/local/lib/python3.11/dist-packages (from torch) (9.1.0.70)\n",
            "Requirement already satisfied: nvidia-cublas-cu12==12.4.5.8 in /usr/local/lib/python3.11/dist-packages (from torch) (12.4.5.8)\n",
            "Requirement already satisfied: nvidia-cufft-cu12==11.2.1.3 in /usr/local/lib/python3.11/dist-packages (from torch) (11.2.1.3)\n",
            "Requirement already satisfied: nvidia-curand-cu12==10.3.5.147 in /usr/local/lib/python3.11/dist-packages (from torch) (10.3.5.147)\n",
            "Requirement already satisfied: nvidia-cusolver-cu12==11.6.1.9 in /usr/local/lib/python3.11/dist-packages (from torch) (11.6.1.9)\n",
            "Requirement already satisfied: nvidia-cusparse-cu12==12.3.1.170 in /usr/local/lib/python3.11/dist-packages (from torch) (12.3.1.170)\n",
            "Requirement already satisfied: nvidia-cusparselt-cu12==0.6.2 in /usr/local/lib/python3.11/dist-packages (from torch) (0.6.2)\n",
            "Requirement already satisfied: nvidia-nccl-cu12==2.21.5 in /usr/local/lib/python3.11/dist-packages (from torch) (2.21.5)\n",
            "Requirement already satisfied: nvidia-nvtx-cu12==12.4.127 in /usr/local/lib/python3.11/dist-packages (from torch) (12.4.127)\n",
            "Requirement already satisfied: nvidia-nvjitlink-cu12==12.4.127 in /usr/local/lib/python3.11/dist-packages (from torch) (12.4.127)\n",
            "Requirement already satisfied: triton==3.2.0 in /usr/local/lib/python3.11/dist-packages (from torch) (3.2.0)\n",
            "Requirement already satisfied: sympy==1.13.1 in /usr/local/lib/python3.11/dist-packages (from torch) (1.13.1)\n",
            "Requirement already satisfied: mpmath<1.4,>=1.1.0 in /usr/local/lib/python3.11/dist-packages (from sympy==1.13.1->torch) (1.3.0)\n",
            "Requirement already satisfied: numpy in /usr/local/lib/python3.11/dist-packages (from torchvision) (2.0.2)\n",
            "Requirement already satisfied: pillow!=8.3.*,>=5.3.0 in /usr/local/lib/python3.11/dist-packages (from torchvision) (11.1.0)\n",
            "Requirement already satisfied: matplotlib>=3.3.0 in /usr/local/lib/python3.11/dist-packages (from ultralytics) (3.10.0)\n",
            "Requirement already satisfied: opencv-python>=4.6.0 in /usr/local/lib/python3.11/dist-packages (from ultralytics) (4.11.0.86)\n",
            "Requirement already satisfied: pyyaml>=5.3.1 in /usr/local/lib/python3.11/dist-packages (from ultralytics) (6.0.2)\n",
            "Requirement already satisfied: requests>=2.23.0 in /usr/local/lib/python3.11/dist-packages (from ultralytics) (2.32.3)\n",
            "Requirement already satisfied: scipy>=1.4.1 in /usr/local/lib/python3.11/dist-packages (from ultralytics) (1.14.1)\n",
            "Requirement already satisfied: tqdm>=4.64.0 in /usr/local/lib/python3.11/dist-packages (from ultralytics) (4.67.1)\n",
            "Requirement already satisfied: psutil in /usr/local/lib/python3.11/dist-packages (from ultralytics) (5.9.5)\n",
            "Requirement already satisfied: py-cpuinfo in /usr/local/lib/python3.11/dist-packages (from ultralytics) (9.0.0)\n",
            "Requirement already satisfied: pandas>=1.1.4 in /usr/local/lib/python3.11/dist-packages (from ultralytics) (2.2.2)\n",
            "Requirement already satisfied: seaborn>=0.11.0 in /usr/local/lib/python3.11/dist-packages (from ultralytics) (0.13.2)\n",
            "Requirement already satisfied: ultralytics-thop>=2.0.0 in /usr/local/lib/python3.11/dist-packages (from ultralytics) (2.0.14)\n",
            "Requirement already satisfied: contourpy>=1.0.1 in /usr/local/lib/python3.11/dist-packages (from matplotlib>=3.3.0->ultralytics) (1.3.1)\n",
            "Requirement already satisfied: cycler>=0.10 in /usr/local/lib/python3.11/dist-packages (from matplotlib>=3.3.0->ultralytics) (0.12.1)\n",
            "Requirement already satisfied: fonttools>=4.22.0 in /usr/local/lib/python3.11/dist-packages (from matplotlib>=3.3.0->ultralytics) (4.57.0)\n",
            "Requirement already satisfied: kiwisolver>=1.3.1 in /usr/local/lib/python3.11/dist-packages (from matplotlib>=3.3.0->ultralytics) (1.4.8)\n",
            "Requirement already satisfied: packaging>=20.0 in /usr/local/lib/python3.11/dist-packages (from matplotlib>=3.3.0->ultralytics) (24.2)\n",
            "Requirement already satisfied: pyparsing>=2.3.1 in /usr/local/lib/python3.11/dist-packages (from matplotlib>=3.3.0->ultralytics) (3.2.3)\n",
            "Requirement already satisfied: python-dateutil>=2.7 in /usr/local/lib/python3.11/dist-packages (from matplotlib>=3.3.0->ultralytics) (2.8.2)\n",
            "Requirement already satisfied: pytz>=2020.1 in /usr/local/lib/python3.11/dist-packages (from pandas>=1.1.4->ultralytics) (2025.2)\n",
            "Requirement already satisfied: tzdata>=2022.7 in /usr/local/lib/python3.11/dist-packages (from pandas>=1.1.4->ultralytics) (2025.2)\n",
            "Requirement already satisfied: charset-normalizer<4,>=2 in /usr/local/lib/python3.11/dist-packages (from requests>=2.23.0->ultralytics) (3.4.1)\n",
            "Requirement already satisfied: idna<4,>=2.5 in /usr/local/lib/python3.11/dist-packages (from requests>=2.23.0->ultralytics) (3.10)\n",
            "Requirement already satisfied: urllib3<3,>=1.21.1 in /usr/local/lib/python3.11/dist-packages (from requests>=2.23.0->ultralytics) (2.3.0)\n",
            "Requirement already satisfied: certifi>=2017.4.17 in /usr/local/lib/python3.11/dist-packages (from requests>=2.23.0->ultralytics) (2025.1.31)\n",
            "Requirement already satisfied: MarkupSafe>=2.0 in /usr/local/lib/python3.11/dist-packages (from jinja2->torch) (3.0.2)\n",
            "Requirement already satisfied: six>=1.5 in /usr/local/lib/python3.11/dist-packages (from python-dateutil>=2.7->matplotlib>=3.3.0->ultralytics) (1.17.0)\n",
            "Requirement already satisfied: kaggle in /usr/local/lib/python3.11/dist-packages (1.7.4.2)\n",
            "Requirement already satisfied: kagglehub in /usr/local/lib/python3.11/dist-packages (0.3.11)\n",
            "Requirement already satisfied: bleach in /usr/local/lib/python3.11/dist-packages (from kaggle) (6.2.0)\n",
            "Requirement already satisfied: certifi>=14.05.14 in /usr/local/lib/python3.11/dist-packages (from kaggle) (2025.1.31)\n",
            "Requirement already satisfied: charset-normalizer in /usr/local/lib/python3.11/dist-packages (from kaggle) (3.4.1)\n",
            "Requirement already satisfied: idna in /usr/local/lib/python3.11/dist-packages (from kaggle) (3.10)\n",
            "Requirement already satisfied: protobuf in /usr/local/lib/python3.11/dist-packages (from kaggle) (5.29.4)\n",
            "Requirement already satisfied: python-dateutil>=2.5.3 in /usr/local/lib/python3.11/dist-packages (from kaggle) (2.8.2)\n",
            "Requirement already satisfied: python-slugify in /usr/local/lib/python3.11/dist-packages (from kaggle) (8.0.4)\n",
            "Requirement already satisfied: requests in /usr/local/lib/python3.11/dist-packages (from kaggle) (2.32.3)\n",
            "Requirement already satisfied: setuptools>=21.0.0 in /usr/local/lib/python3.11/dist-packages (from kaggle) (75.2.0)\n",
            "Requirement already satisfied: six>=1.10 in /usr/local/lib/python3.11/dist-packages (from kaggle) (1.17.0)\n",
            "Requirement already satisfied: text-unidecode in /usr/local/lib/python3.11/dist-packages (from kaggle) (1.3)\n",
            "Requirement already satisfied: tqdm in /usr/local/lib/python3.11/dist-packages (from kaggle) (4.67.1)\n",
            "Requirement already satisfied: urllib3>=1.15.1 in /usr/local/lib/python3.11/dist-packages (from kaggle) (2.3.0)\n",
            "Requirement already satisfied: webencodings in /usr/local/lib/python3.11/dist-packages (from kaggle) (0.5.1)\n",
            "Requirement already satisfied: packaging in /usr/local/lib/python3.11/dist-packages (from kagglehub) (24.2)\n",
            "Requirement already satisfied: pyyaml in /usr/local/lib/python3.11/dist-packages (from kagglehub) (6.0.2)\n",
            "Requirement already satisfied: scikit-learn in /usr/local/lib/python3.11/dist-packages (1.6.1)\n",
            "Requirement already satisfied: matplotlib in /usr/local/lib/python3.11/dist-packages (3.10.0)\n",
            "Requirement already satisfied: seaborn in /usr/local/lib/python3.11/dist-packages (0.13.2)\n",
            "Requirement already satisfied: pandas in /usr/local/lib/python3.11/dist-packages (2.2.2)\n",
            "Requirement already satisfied: opencv-python in /usr/local/lib/python3.11/dist-packages (4.11.0.86)\n",
            "Requirement already satisfied: pydicom in /usr/local/lib/python3.11/dist-packages (3.0.1)\n",
            "Requirement already satisfied: albumentations in /usr/local/lib/python3.11/dist-packages (2.0.5)\n",
            "Requirement already satisfied: numpy>=1.19.5 in /usr/local/lib/python3.11/dist-packages (from scikit-learn) (2.0.2)\n",
            "Requirement already satisfied: scipy>=1.6.0 in /usr/local/lib/python3.11/dist-packages (from scikit-learn) (1.14.1)\n",
            "Requirement already satisfied: joblib>=1.2.0 in /usr/local/lib/python3.11/dist-packages (from scikit-learn) (1.4.2)\n",
            "Requirement already satisfied: threadpoolctl>=3.1.0 in /usr/local/lib/python3.11/dist-packages (from scikit-learn) (3.6.0)\n",
            "Requirement already satisfied: contourpy>=1.0.1 in /usr/local/lib/python3.11/dist-packages (from matplotlib) (1.3.1)\n",
            "Requirement already satisfied: cycler>=0.10 in /usr/local/lib/python3.11/dist-packages (from matplotlib) (0.12.1)\n",
            "Requirement already satisfied: fonttools>=4.22.0 in /usr/local/lib/python3.11/dist-packages (from matplotlib) (4.57.0)\n",
            "Requirement already satisfied: kiwisolver>=1.3.1 in /usr/local/lib/python3.11/dist-packages (from matplotlib) (1.4.8)\n",
            "Requirement already satisfied: packaging>=20.0 in /usr/local/lib/python3.11/dist-packages (from matplotlib) (24.2)\n",
            "Requirement already satisfied: pillow>=8 in /usr/local/lib/python3.11/dist-packages (from matplotlib) (11.1.0)\n",
            "Requirement already satisfied: pyparsing>=2.3.1 in /usr/local/lib/python3.11/dist-packages (from matplotlib) (3.2.3)\n",
            "Requirement already satisfied: python-dateutil>=2.7 in /usr/local/lib/python3.11/dist-packages (from matplotlib) (2.8.2)\n",
            "Requirement already satisfied: pytz>=2020.1 in /usr/local/lib/python3.11/dist-packages (from pandas) (2025.2)\n",
            "Requirement already satisfied: tzdata>=2022.7 in /usr/local/lib/python3.11/dist-packages (from pandas) (2025.2)\n",
            "Requirement already satisfied: PyYAML in /usr/local/lib/python3.11/dist-packages (from albumentations) (6.0.2)\n",
            "Requirement already satisfied: pydantic>=2.9.2 in /usr/local/lib/python3.11/dist-packages (from albumentations) (2.11.3)\n",
            "Requirement already satisfied: albucore==0.0.23 in /usr/local/lib/python3.11/dist-packages (from albumentations) (0.0.23)\n",
            "Requirement already satisfied: opencv-python-headless>=4.9.0.80 in /usr/local/lib/python3.11/dist-packages (from albumentations) (4.11.0.86)\n",
            "Requirement already satisfied: stringzilla>=3.10.4 in /usr/local/lib/python3.11/dist-packages (from albucore==0.0.23->albumentations) (3.12.3)\n",
            "Requirement already satisfied: simsimd>=5.9.2 in /usr/local/lib/python3.11/dist-packages (from albucore==0.0.23->albumentations) (6.2.1)\n",
            "Requirement already satisfied: annotated-types>=0.6.0 in /usr/local/lib/python3.11/dist-packages (from pydantic>=2.9.2->albumentations) (0.7.0)\n",
            "Requirement already satisfied: pydantic-core==2.33.1 in /usr/local/lib/python3.11/dist-packages (from pydantic>=2.9.2->albumentations) (2.33.1)\n",
            "Requirement already satisfied: typing-extensions>=4.12.2 in /usr/local/lib/python3.11/dist-packages (from pydantic>=2.9.2->albumentations) (4.13.1)\n",
            "Requirement already satisfied: typing-inspection>=0.4.0 in /usr/local/lib/python3.11/dist-packages (from pydantic>=2.9.2->albumentations) (0.4.0)\n",
            "Requirement already satisfied: six>=1.5 in /usr/local/lib/python3.11/dist-packages (from python-dateutil>=2.7->matplotlib) (1.17.0)\n"
          ]
        }
      ]
    },
    {
      "cell_type": "code",
      "source": [
        "# Import necessary libraries\n",
        "import os\n",
        "import torch\n",
        "import numpy as np\n",
        "import matplotlib.pyplot as plt\n",
        "from ultralytics import YOLO\n",
        "import cv2\n",
        "import pandas as pd\n",
        "import kagglehub\n",
        "import json\n",
        "import shutil\n",
        "from tqdm import tqdm\n",
        "import glob\n",
        "import pydicom"
      ],
      "metadata": {
        "id": "HVeERA51yN2x"
      },
      "execution_count": 2,
      "outputs": []
    },
    {
      "cell_type": "code",
      "source": [
        "# Download the Crowds Cure Cancer 2017 dataset\n",
        "dataset_path = kagglehub.dataset_download(\"kmader/crowds-cure-cancer-2017\")\n",
        "print(\"Path to dataset files:\", dataset_path)"
      ],
      "metadata": {
        "colab": {
          "base_uri": "https://localhost:8080/"
        },
        "id": "ssB8lewqyMGh",
        "outputId": "c02b4a18-fab8-4c6f-843b-3644be7a7d82"
      },
      "execution_count": 3,
      "outputs": [
        {
          "output_type": "stream",
          "name": "stdout",
          "text": [
            "Resuming download from 5171576832 bytes (14976316197 bytes left)...\n",
            "Resuming download from https://www.kaggle.com/api/v1/datasets/download/kmader/crowds-cure-cancer-2017?dataset_version_number=3 (5171576832/20147893029) bytes left.\n"
          ]
        },
        {
          "output_type": "stream",
          "name": "stderr",
          "text": [
            "100%|██████████| 18.8G/18.8G [02:37<00:00, 95.0MB/s]"
          ]
        },
        {
          "output_type": "stream",
          "name": "stdout",
          "text": [
            "Extracting files...\n"
          ]
        },
        {
          "output_type": "stream",
          "name": "stderr",
          "text": [
            "\n"
          ]
        },
        {
          "output_type": "stream",
          "name": "stdout",
          "text": [
            "Path to dataset files: /root/.cache/kagglehub/datasets/kmader/crowds-cure-cancer-2017/versions/3\n"
          ]
        }
      ]
    },
    {
      "cell_type": "code",
      "source": [
        "# Create directories for YOLO format\n",
        "base_dir = '/content/lung_cancer_yolo'\n",
        "images_dir = f'{base_dir}/images'\n",
        "labels_dir = f'{base_dir}/labels'\n",
        "train_dir = f'{base_dir}/train'\n",
        "val_dir = f'{base_dir}/val'\n",
        "test_dir = f'{base_dir}/test'\n",
        "\n",
        "for dir_path in [base_dir, images_dir, labels_dir, train_dir, val_dir, test_dir]:\n",
        "    os.makedirs(dir_path, exist_ok=True)"
      ],
      "metadata": {
        "id": "0ByFd_IryMEL"
      },
      "execution_count": 4,
      "outputs": []
    },
    {
      "cell_type": "code",
      "source": [
        "# Define lung window function for CT scans\n",
        "def apply_lung_window(dicom_image, center=-600, width=1500):\n",
        "    \"\"\"Apply lung window to highlight lung tissue.\"\"\"\n",
        "    image = dicom_image.copy()\n",
        "    min_value = center - width//2\n",
        "    max_value = center + width//2\n",
        "    image[image < min_value] = min_value\n",
        "    image[image > max_value] = max_value\n",
        "    return (image - min_value) / (max_value - min_value) * 255"
      ],
      "metadata": {
        "id": "QFwAunrcyMB1"
      },
      "execution_count": 5,
      "outputs": []
    },
    {
      "cell_type": "code",
      "source": [
        "# Process the dataset for YOLO format\n",
        "def process_dataset():\n",
        "    # Find annotation files\n",
        "    annotation_files = glob.glob(f\"{dataset_path}/**/annotations/*.json\", recursive=True)\n",
        "    print(f\"Found {len(annotation_files)} annotation files\")\n",
        "\n",
        "    if len(annotation_files) == 0:\n",
        "        print(\"Checking the directory structure...\")\n",
        "        all_files = glob.glob(f\"{dataset_path}/**/*\", recursive=True)\n",
        "        for i, file in enumerate(all_files[:20]):  # Print first 20 files to understand structure\n",
        "            print(f\"File {i}: {file}\")\n",
        "\n",
        "    # Create a mapping of classes\n",
        "    class_mapping = {\n",
        "        'Lung cancer': 0,\n",
        "        'Lung nodule': 1,\n",
        "        'Metastasis': 2,\n",
        "        'Cancer': 0,  # Alternative label that might be in the dataset\n",
        "        'Nodule': 1,  # Alternative label\n",
        "        'nodule': 1   # Case variation\n",
        "    }\n",
        "\n",
        "    processed_count = 0\n",
        "\n",
        "    # Process each annotation file\n",
        "    for ann_file in tqdm(annotation_files):\n",
        "        try:\n",
        "            with open(ann_file, 'r') as f:\n",
        "                annotation = json.load(f)\n",
        "\n",
        "                # Extract image path from annotation\n",
        "                # Adjust this path extraction based on your examination of the dataset structure\n",
        "                rel_path = annotation.get('filename', '')\n",
        "                if not rel_path:\n",
        "                    print(f\"No filename in annotation: {ann_file}\")\n",
        "                    continue\n",
        "\n",
        "                # Try different possible locations for the image\n",
        "                possible_image_paths = [\n",
        "                    os.path.join(os.path.dirname(os.path.dirname(ann_file)), 'images', rel_path),\n",
        "                    os.path.join(os.path.dirname(os.path.dirname(ann_file)), rel_path),\n",
        "                    os.path.join(dataset_path, 'images', rel_path),\n",
        "                    os.path.join(dataset_path, rel_path)\n",
        "                ]\n",
        "\n",
        "                image_path = None\n",
        "                for path in possible_image_paths:\n",
        "                    if os.path.exists(path):\n",
        "                        image_path = path\n",
        "                        break\n",
        "\n",
        "                if not image_path:\n",
        "                    print(f\"Image not found for annotation: {ann_file}, filename: {rel_path}\")\n",
        "                    continue\n",
        "\n",
        "                # For DICOM files, convert to PNG\n",
        "                if image_path.lower().endswith('.dcm'):\n",
        "                    try:\n",
        "                        dicom = pydicom.dcmread(image_path)\n",
        "                        img_array = dicom.pixel_array\n",
        "\n",
        "                        # Apply lung windowing\n",
        "                        img_array = apply_lung_window(img_array)\n",
        "\n",
        "                        # Create filename for PNG\n",
        "                        png_filename = os.path.splitext(os.path.basename(image_path))[0] + '.png'\n",
        "                        png_path = os.path.join(images_dir, png_filename)\n",
        "\n",
        "                        # Save as PNG\n",
        "                        cv2.imwrite(png_path, img_array.astype('uint8'))\n",
        "                        image_filename = png_filename\n",
        "                        img_width, img_height = img_array.shape[1], img_array.shape[0]\n",
        "                    except Exception as e:\n",
        "                        print(f\"Error processing DICOM file {image_path}: {e}\")\n",
        "                        continue\n",
        "                else:\n",
        "                    # For other formats, just copy\n",
        "                    try:\n",
        "                        image_filename = os.path.basename(image_path)\n",
        "                        shutil.copy(image_path, os.path.join(images_dir, image_filename))\n",
        "                        img = cv2.imread(image_path)\n",
        "                        if img is None:\n",
        "                            print(f\"Unable to read image: {image_path}\")\n",
        "                            continue\n",
        "                        img_height, img_width = img.shape[:2]\n",
        "                    except Exception as e:\n",
        "                        print(f\"Error copying image {image_path}: {e}\")\n",
        "                        continue\n",
        "\n",
        "                # Create YOLO format label file\n",
        "                label_filename = os.path.splitext(image_filename)[0] + '.txt'\n",
        "                label_path = os.path.join(labels_dir, label_filename)\n",
        "\n",
        "                with open(label_path, 'w') as label_file:\n",
        "                    # Process annotations - look for objects in different places in the JSON\n",
        "                    objects_to_process = []\n",
        "\n",
        "                    # Try different possible locations for annotations\n",
        "                    if 'objects' in annotation:\n",
        "                        objects_to_process = annotation['objects']\n",
        "                    elif 'annotations' in annotation:\n",
        "                        objects_to_process = annotation['annotations']\n",
        "\n",
        "                    if not objects_to_process:\n",
        "                        print(f\"No objects found in annotation: {ann_file}\")\n",
        "                        continue\n",
        "\n",
        "                    for obj in objects_to_process:\n",
        "                        # Try different possible name fields\n",
        "                        class_name = None\n",
        "                        for key in ['name', 'class', 'label', 'category']:\n",
        "                            if key in obj:\n",
        "                                class_name = obj[key]\n",
        "                                break\n",
        "\n",
        "                        if not class_name:\n",
        "                            continue\n",
        "\n",
        "                        if class_name in class_mapping:\n",
        "                            class_id = class_mapping[class_name]\n",
        "\n",
        "                            # Extract bounding box - try different possible formats\n",
        "                            x1, y1, width, height = None, None, None, None\n",
        "\n",
        "                            # Format 1: x, y, width, height\n",
        "                            if all(k in obj for k in ['x', 'y', 'width', 'height']):\n",
        "                                x1 = obj['x']\n",
        "                                y1 = obj['y']\n",
        "                                width = obj['width']\n",
        "                                height = obj['height']\n",
        "                            # Format 2: xmin, ymin, xmax, ymax\n",
        "                            elif all(k in obj for k in ['xmin', 'ymin', 'xmax', 'ymax']):\n",
        "                                x1 = obj['xmin']\n",
        "                                y1 = obj['ymin']\n",
        "                                width = obj['xmax'] - obj['xmin']\n",
        "                                height = obj['ymax'] - obj['ymin']\n",
        "                            # Format 3: bbox as [x, y, width, height]\n",
        "                            elif 'bbox' in obj and len(obj['bbox']) == 4:\n",
        "                                x1, y1, width, height = obj['bbox']\n",
        "\n",
        "                            if x1 is None:\n",
        "                                continue\n",
        "\n",
        "                            # Convert to YOLO format (normalized center x, center y, width, height)\n",
        "                            x_center = (x1 + width/2) / img_width\n",
        "                            y_center = (y1 + height/2) / img_height\n",
        "                            norm_width = width / img_width\n",
        "                            norm_height = height / img_height\n",
        "\n",
        "                            # Ensure values are within [0, 1]\n",
        "                            x_center = max(0, min(1, x_center))\n",
        "                            y_center = max(0, min(1, y_center))\n",
        "                            norm_width = max(0, min(1, norm_width))\n",
        "                            norm_height = max(0, min(1, norm_height))\n",
        "\n",
        "                            # Write to label file\n",
        "                            label_file.write(f\"{class_id} {x_center} {y_center} {norm_width} {norm_height}\\n\")\n",
        "\n",
        "                processed_count += 1\n",
        "        except Exception as e:\n",
        "            print(f\"Error processing {ann_file}: {e}\")\n",
        "\n",
        "    print(f\"Successfully processed {processed_count} files\")\n",
        "    return processed_count"
      ],
      "metadata": {
        "id": "diKZfSF4yL_f"
      },
      "execution_count": 6,
      "outputs": []
    },
    {
      "cell_type": "code",
      "source": [
        "# Call the function to process dataset\n",
        "processed_count = process_dataset()\n",
        "\n",
        "if processed_count == 0:\n",
        "    # If no files were processed, let's create a small synthetic dataset for demonstration\n",
        "    print(\"Creating synthetic dataset for demonstration...\")\n",
        "\n",
        "    # Create 20 synthetic examples\n",
        "    for i in range(20):\n",
        "        # Create a blank image with a simulated nodule\n",
        "        img = np.zeros((512, 512), dtype=np.uint8)\n",
        "        # Add background texture\n",
        "        img += np.random.randint(20, 40, size=(512, 512), dtype=np.uint8)\n",
        "\n",
        "        # Create a simulated nodule\n",
        "        center_x = np.random.randint(100, 412)\n",
        "        center_y = np.random.randint(100, 412)\n",
        "        radius = np.random.randint(10, 30)\n",
        "\n",
        "        # Draw the nodule (brighter circle)\n",
        "        cv2.circle(img, (center_x, center_y), radius, 150, -1)\n",
        "        # Add some gaussian blur for realism\n",
        "        img = cv2.GaussianBlur(img, (5, 5), 0)\n",
        "\n",
        "        # Save the image\n",
        "        img_filename = f\"synthetic_lung_{i}.png\"\n",
        "        cv2.imwrite(os.path.join(images_dir, img_filename), img)\n",
        "\n",
        "        # Create label\n",
        "        x_center = center_x / 512\n",
        "        y_center = center_y / 512\n",
        "        width = (radius * 2) / 512\n",
        "        height = (radius * 2) / 512\n",
        "\n",
        "        # Determine class randomly (0: cancer, 1: nodule)\n",
        "        class_id = np.random.choice([0, 1], p=[0.3, 0.7])\n",
        "\n",
        "        with open(os.path.join(labels_dir, f\"synthetic_lung_{i}.txt\"), 'w') as f:\n",
        "            f.write(f\"{class_id} {x_center} {y_center} {width} {height}\\n\")\n",
        "\n",
        "    processed_count = 20\n",
        "    print(f\"Created {processed_count} synthetic examples\")"
      ],
      "metadata": {
        "colab": {
          "base_uri": "https://localhost:8080/"
        },
        "id": "4LceCmecyL9J",
        "outputId": "38aa616a-770e-4335-e3d0-cdf69899c8e9"
      },
      "execution_count": 7,
      "outputs": [
        {
          "output_type": "stream",
          "name": "stdout",
          "text": [
            "Found 0 annotation files\n",
            "Checking the directory structure...\n",
            "File 0: /root/.cache/kagglehub/datasets/kmader/crowds-cure-cancer-2017/versions/3/compressed_stacks\n",
            "File 1: /root/.cache/kagglehub/datasets/kmader/crowds-cure-cancer-2017/versions/3/annotated_dicoms.zip\n",
            "File 2: /root/.cache/kagglehub/datasets/kmader/crowds-cure-cancer-2017/versions/3/annotated_dicoms\n",
            "File 3: /root/.cache/kagglehub/datasets/kmader/crowds-cure-cancer-2017/versions/3/compressed_stacks.zip\n",
            "File 4: /root/.cache/kagglehub/datasets/kmader/crowds-cure-cancer-2017/versions/3/CrowdsCureCancer2017Annotations.csv\n",
            "File 5: /root/.cache/kagglehub/datasets/kmader/crowds-cure-cancer-2017/versions/3/compressed_stacks/TCGA-13-0768\n",
            "File 6: /root/.cache/kagglehub/datasets/kmader/crowds-cure-cancer-2017/versions/3/compressed_stacks/TCGA-B8-5159\n",
            "File 7: /root/.cache/kagglehub/datasets/kmader/crowds-cure-cancer-2017/versions/3/compressed_stacks/TCGA-BP-4173\n",
            "File 8: /root/.cache/kagglehub/datasets/kmader/crowds-cure-cancer-2017/versions/3/compressed_stacks/TCGA-BP-4977\n",
            "File 9: /root/.cache/kagglehub/datasets/kmader/crowds-cure-cancer-2017/versions/3/compressed_stacks/TCGA-13-0911\n",
            "File 10: /root/.cache/kagglehub/datasets/kmader/crowds-cure-cancer-2017/versions/3/compressed_stacks/TCGA-17-Z051\n",
            "File 11: /root/.cache/kagglehub/datasets/kmader/crowds-cure-cancer-2017/versions/3/compressed_stacks/TCGA-61-1730\n",
            "File 12: /root/.cache/kagglehub/datasets/kmader/crowds-cure-cancer-2017/versions/3/compressed_stacks/TCGA-BP-4992\n",
            "File 13: /root/.cache/kagglehub/datasets/kmader/crowds-cure-cancer-2017/versions/3/compressed_stacks/TCGA-BP-4768\n",
            "File 14: /root/.cache/kagglehub/datasets/kmader/crowds-cure-cancer-2017/versions/3/compressed_stacks/TCGA-24-1413\n",
            "File 15: /root/.cache/kagglehub/datasets/kmader/crowds-cure-cancer-2017/versions/3/compressed_stacks/TCGA-25-1634\n",
            "File 16: /root/.cache/kagglehub/datasets/kmader/crowds-cure-cancer-2017/versions/3/compressed_stacks/TCGA-B0-5077\n",
            "File 17: /root/.cache/kagglehub/datasets/kmader/crowds-cure-cancer-2017/versions/3/compressed_stacks/TCGA-BC-A69H\n",
            "File 18: /root/.cache/kagglehub/datasets/kmader/crowds-cure-cancer-2017/versions/3/compressed_stacks/TCGA-25-2399\n",
            "File 19: /root/.cache/kagglehub/datasets/kmader/crowds-cure-cancer-2017/versions/3/compressed_stacks/TCGA-BP-4965\n"
          ]
        },
        {
          "output_type": "stream",
          "name": "stderr",
          "text": [
            "0it [00:00, ?it/s]"
          ]
        },
        {
          "output_type": "stream",
          "name": "stdout",
          "text": [
            "Successfully processed 0 files\n",
            "Creating synthetic dataset for demonstration...\n"
          ]
        },
        {
          "output_type": "stream",
          "name": "stderr",
          "text": [
            "\n"
          ]
        },
        {
          "output_type": "stream",
          "name": "stdout",
          "text": [
            "Created 20 synthetic examples\n"
          ]
        }
      ]
    },
    {
      "cell_type": "code",
      "source": [
        "# Split data into training, validation, and test sets (70%, 20%, 10%)\n",
        "def split_data():\n",
        "    all_images = [f for f in os.listdir(images_dir) if f.endswith(('.png', '.jpg', '.jpeg'))]\n",
        "\n",
        "    if not all_images:\n",
        "        print(\"No images found in images directory!\")\n",
        "        return False\n",
        "\n",
        "    print(f\"Splitting {len(all_images)} images into train/val/test sets\")\n",
        "    np.random.shuffle(all_images)\n",
        "\n",
        "    n_total = len(all_images)\n",
        "    n_train = int(0.7 * n_total)\n",
        "    n_val = int(0.2 * n_total)\n",
        "\n",
        "    train_images = all_images[:n_train]\n",
        "    val_images = all_images[n_train:n_train+n_val]\n",
        "    test_images = all_images[n_train+n_val:]\n",
        "\n",
        "    # Copy images and labels to respective directories\n",
        "    for img_set, target_dir in [(train_images, train_dir),\n",
        "                               (val_images, val_dir),\n",
        "                               (test_images, test_dir)]:\n",
        "\n",
        "        os.makedirs(target_dir, exist_ok=True)\n",
        "        for img_name in img_set:\n",
        "            img_path = os.path.join(images_dir, img_name)\n",
        "            if os.path.exists(img_path):\n",
        "                shutil.copy(img_path, os.path.join(target_dir, img_name))\n",
        "\n",
        "                # Copy corresponding label file\n",
        "                label_name = os.path.splitext(img_name)[0] + '.txt'\n",
        "                label_path = os.path.join(labels_dir, label_name)\n",
        "                if os.path.exists(label_path):\n",
        "                    shutil.copy(label_path, os.path.join(target_dir, label_name))\n",
        "\n",
        "    print(f\"Split dataset: {len(train_images)} training, {len(val_images)} validation, {len(test_images)} test images\")\n",
        "    return True\n",
        "\n",
        "# Split the dataset\n",
        "split_success = split_data()\n",
        "\n",
        "if not split_success:\n",
        "    print(\"Error splitting dataset. Check that there are images in the images directory.\")"
      ],
      "metadata": {
        "colab": {
          "base_uri": "https://localhost:8080/"
        },
        "id": "Mig9T2_syL63",
        "outputId": "8a664996-f82a-4759-db26-01f4fa8ea7f2"
      },
      "execution_count": 8,
      "outputs": [
        {
          "output_type": "stream",
          "name": "stdout",
          "text": [
            "Splitting 20 images into train/val/test sets\n",
            "Split dataset: 14 training, 4 validation, 2 test images\n"
          ]
        }
      ]
    },
    {
      "cell_type": "code",
      "source": [
        "# Create YAML configuration for YOLO training\n",
        "class_names = {\n",
        "    0: 'Lung cancer',\n",
        "    1: 'Lung nodule',\n",
        "    2: 'Metastasis'\n",
        "}\n",
        "\n",
        "yaml_content = f\"\"\"\n",
        "path: {base_dir}\n",
        "train: {train_dir}\n",
        "val: {val_dir}\n",
        "test: {test_dir}\n",
        "\n",
        "nc: {len(class_names)}  # number of classes\n",
        "names: {class_names}  # class names\n",
        "\"\"\"\n",
        "\n",
        "yaml_path = f'{base_dir}/lung_cancer_data.yaml'\n",
        "with open(yaml_path, 'w') as f:\n",
        "    f.write(yaml_content)\n",
        "\n",
        "print(f\"Created YAML configuration at {yaml_path}\")"
      ],
      "metadata": {
        "colab": {
          "base_uri": "https://localhost:8080/"
        },
        "id": "dZUcPPviylTT",
        "outputId": "57e2edaa-8532-4f33-e5ce-a8d7238e60bf"
      },
      "execution_count": 9,
      "outputs": [
        {
          "output_type": "stream",
          "name": "stdout",
          "text": [
            "Created YAML configuration at /content/lung_cancer_yolo/lung_cancer_data.yaml\n"
          ]
        }
      ]
    },
    {
      "cell_type": "code",
      "source": [
        "# Install YOLOv12\n",
        "!pip install git+https://github.com/ultralytics/ultralytics.git"
      ],
      "metadata": {
        "colab": {
          "base_uri": "https://localhost:8080/"
        },
        "id": "vNZrXoxRzaja",
        "outputId": "e2648fac-5624-4963-a2f3-32e7541ae635"
      },
      "execution_count": 10,
      "outputs": [
        {
          "output_type": "stream",
          "name": "stdout",
          "text": [
            "Collecting git+https://github.com/ultralytics/ultralytics.git\n",
            "  Cloning https://github.com/ultralytics/ultralytics.git to /tmp/pip-req-build-6t4wz7ev\n",
            "  Running command git clone --filter=blob:none --quiet https://github.com/ultralytics/ultralytics.git /tmp/pip-req-build-6t4wz7ev\n",
            "  Resolved https://github.com/ultralytics/ultralytics.git to commit ee2b03ee2f97cb16277153c9f4c65329c8670d65\n",
            "  Installing build dependencies ... \u001b[?25l\u001b[?25hdone\n",
            "  Getting requirements to build wheel ... \u001b[?25l\u001b[?25hdone\n",
            "  Preparing metadata (pyproject.toml) ... \u001b[?25l\u001b[?25hdone\n",
            "Requirement already satisfied: numpy<=2.1.1,>=1.23.0 in /usr/local/lib/python3.11/dist-packages (from ultralytics==8.3.109) (2.0.2)\n",
            "Requirement already satisfied: matplotlib>=3.3.0 in /usr/local/lib/python3.11/dist-packages (from ultralytics==8.3.109) (3.10.0)\n",
            "Requirement already satisfied: opencv-python>=4.6.0 in /usr/local/lib/python3.11/dist-packages (from ultralytics==8.3.109) (4.11.0.86)\n",
            "Requirement already satisfied: pillow>=7.1.2 in /usr/local/lib/python3.11/dist-packages (from ultralytics==8.3.109) (11.1.0)\n",
            "Requirement already satisfied: pyyaml>=5.3.1 in /usr/local/lib/python3.11/dist-packages (from ultralytics==8.3.109) (6.0.2)\n",
            "Requirement already satisfied: requests>=2.23.0 in /usr/local/lib/python3.11/dist-packages (from ultralytics==8.3.109) (2.32.3)\n",
            "Requirement already satisfied: scipy>=1.4.1 in /usr/local/lib/python3.11/dist-packages (from ultralytics==8.3.109) (1.14.1)\n",
            "Requirement already satisfied: torch>=1.8.0 in /usr/local/lib/python3.11/dist-packages (from ultralytics==8.3.109) (2.6.0+cu124)\n",
            "Requirement already satisfied: torchvision>=0.9.0 in /usr/local/lib/python3.11/dist-packages (from ultralytics==8.3.109) (0.21.0+cu124)\n",
            "Requirement already satisfied: tqdm>=4.64.0 in /usr/local/lib/python3.11/dist-packages (from ultralytics==8.3.109) (4.67.1)\n",
            "Requirement already satisfied: psutil in /usr/local/lib/python3.11/dist-packages (from ultralytics==8.3.109) (5.9.5)\n",
            "Requirement already satisfied: py-cpuinfo in /usr/local/lib/python3.11/dist-packages (from ultralytics==8.3.109) (9.0.0)\n",
            "Requirement already satisfied: pandas>=1.1.4 in /usr/local/lib/python3.11/dist-packages (from ultralytics==8.3.109) (2.2.2)\n",
            "Requirement already satisfied: seaborn>=0.11.0 in /usr/local/lib/python3.11/dist-packages (from ultralytics==8.3.109) (0.13.2)\n",
            "Requirement already satisfied: ultralytics-thop>=2.0.0 in /usr/local/lib/python3.11/dist-packages (from ultralytics==8.3.109) (2.0.14)\n",
            "Requirement already satisfied: contourpy>=1.0.1 in /usr/local/lib/python3.11/dist-packages (from matplotlib>=3.3.0->ultralytics==8.3.109) (1.3.1)\n",
            "Requirement already satisfied: cycler>=0.10 in /usr/local/lib/python3.11/dist-packages (from matplotlib>=3.3.0->ultralytics==8.3.109) (0.12.1)\n",
            "Requirement already satisfied: fonttools>=4.22.0 in /usr/local/lib/python3.11/dist-packages (from matplotlib>=3.3.0->ultralytics==8.3.109) (4.57.0)\n",
            "Requirement already satisfied: kiwisolver>=1.3.1 in /usr/local/lib/python3.11/dist-packages (from matplotlib>=3.3.0->ultralytics==8.3.109) (1.4.8)\n",
            "Requirement already satisfied: packaging>=20.0 in /usr/local/lib/python3.11/dist-packages (from matplotlib>=3.3.0->ultralytics==8.3.109) (24.2)\n",
            "Requirement already satisfied: pyparsing>=2.3.1 in /usr/local/lib/python3.11/dist-packages (from matplotlib>=3.3.0->ultralytics==8.3.109) (3.2.3)\n",
            "Requirement already satisfied: python-dateutil>=2.7 in /usr/local/lib/python3.11/dist-packages (from matplotlib>=3.3.0->ultralytics==8.3.109) (2.8.2)\n",
            "Requirement already satisfied: pytz>=2020.1 in /usr/local/lib/python3.11/dist-packages (from pandas>=1.1.4->ultralytics==8.3.109) (2025.2)\n",
            "Requirement already satisfied: tzdata>=2022.7 in /usr/local/lib/python3.11/dist-packages (from pandas>=1.1.4->ultralytics==8.3.109) (2025.2)\n",
            "Requirement already satisfied: charset-normalizer<4,>=2 in /usr/local/lib/python3.11/dist-packages (from requests>=2.23.0->ultralytics==8.3.109) (3.4.1)\n",
            "Requirement already satisfied: idna<4,>=2.5 in /usr/local/lib/python3.11/dist-packages (from requests>=2.23.0->ultralytics==8.3.109) (3.10)\n",
            "Requirement already satisfied: urllib3<3,>=1.21.1 in /usr/local/lib/python3.11/dist-packages (from requests>=2.23.0->ultralytics==8.3.109) (2.3.0)\n",
            "Requirement already satisfied: certifi>=2017.4.17 in /usr/local/lib/python3.11/dist-packages (from requests>=2.23.0->ultralytics==8.3.109) (2025.1.31)\n",
            "Requirement already satisfied: filelock in /usr/local/lib/python3.11/dist-packages (from torch>=1.8.0->ultralytics==8.3.109) (3.18.0)\n",
            "Requirement already satisfied: typing-extensions>=4.10.0 in /usr/local/lib/python3.11/dist-packages (from torch>=1.8.0->ultralytics==8.3.109) (4.13.1)\n",
            "Requirement already satisfied: networkx in /usr/local/lib/python3.11/dist-packages (from torch>=1.8.0->ultralytics==8.3.109) (3.4.2)\n",
            "Requirement already satisfied: jinja2 in /usr/local/lib/python3.11/dist-packages (from torch>=1.8.0->ultralytics==8.3.109) (3.1.6)\n",
            "Requirement already satisfied: fsspec in /usr/local/lib/python3.11/dist-packages (from torch>=1.8.0->ultralytics==8.3.109) (2025.3.2)\n",
            "Requirement already satisfied: nvidia-cuda-nvrtc-cu12==12.4.127 in /usr/local/lib/python3.11/dist-packages (from torch>=1.8.0->ultralytics==8.3.109) (12.4.127)\n",
            "Requirement already satisfied: nvidia-cuda-runtime-cu12==12.4.127 in /usr/local/lib/python3.11/dist-packages (from torch>=1.8.0->ultralytics==8.3.109) (12.4.127)\n",
            "Requirement already satisfied: nvidia-cuda-cupti-cu12==12.4.127 in /usr/local/lib/python3.11/dist-packages (from torch>=1.8.0->ultralytics==8.3.109) (12.4.127)\n",
            "Requirement already satisfied: nvidia-cudnn-cu12==9.1.0.70 in /usr/local/lib/python3.11/dist-packages (from torch>=1.8.0->ultralytics==8.3.109) (9.1.0.70)\n",
            "Requirement already satisfied: nvidia-cublas-cu12==12.4.5.8 in /usr/local/lib/python3.11/dist-packages (from torch>=1.8.0->ultralytics==8.3.109) (12.4.5.8)\n",
            "Requirement already satisfied: nvidia-cufft-cu12==11.2.1.3 in /usr/local/lib/python3.11/dist-packages (from torch>=1.8.0->ultralytics==8.3.109) (11.2.1.3)\n",
            "Requirement already satisfied: nvidia-curand-cu12==10.3.5.147 in /usr/local/lib/python3.11/dist-packages (from torch>=1.8.0->ultralytics==8.3.109) (10.3.5.147)\n",
            "Requirement already satisfied: nvidia-cusolver-cu12==11.6.1.9 in /usr/local/lib/python3.11/dist-packages (from torch>=1.8.0->ultralytics==8.3.109) (11.6.1.9)\n",
            "Requirement already satisfied: nvidia-cusparse-cu12==12.3.1.170 in /usr/local/lib/python3.11/dist-packages (from torch>=1.8.0->ultralytics==8.3.109) (12.3.1.170)\n",
            "Requirement already satisfied: nvidia-cusparselt-cu12==0.6.2 in /usr/local/lib/python3.11/dist-packages (from torch>=1.8.0->ultralytics==8.3.109) (0.6.2)\n",
            "Requirement already satisfied: nvidia-nccl-cu12==2.21.5 in /usr/local/lib/python3.11/dist-packages (from torch>=1.8.0->ultralytics==8.3.109) (2.21.5)\n",
            "Requirement already satisfied: nvidia-nvtx-cu12==12.4.127 in /usr/local/lib/python3.11/dist-packages (from torch>=1.8.0->ultralytics==8.3.109) (12.4.127)\n",
            "Requirement already satisfied: nvidia-nvjitlink-cu12==12.4.127 in /usr/local/lib/python3.11/dist-packages (from torch>=1.8.0->ultralytics==8.3.109) (12.4.127)\n",
            "Requirement already satisfied: triton==3.2.0 in /usr/local/lib/python3.11/dist-packages (from torch>=1.8.0->ultralytics==8.3.109) (3.2.0)\n",
            "Requirement already satisfied: sympy==1.13.1 in /usr/local/lib/python3.11/dist-packages (from torch>=1.8.0->ultralytics==8.3.109) (1.13.1)\n",
            "Requirement already satisfied: mpmath<1.4,>=1.1.0 in /usr/local/lib/python3.11/dist-packages (from sympy==1.13.1->torch>=1.8.0->ultralytics==8.3.109) (1.3.0)\n",
            "Requirement already satisfied: six>=1.5 in /usr/local/lib/python3.11/dist-packages (from python-dateutil>=2.7->matplotlib>=3.3.0->ultralytics==8.3.109) (1.17.0)\n",
            "Requirement already satisfied: MarkupSafe>=2.0 in /usr/local/lib/python3.11/dist-packages (from jinja2->torch>=1.8.0->ultralytics==8.3.109) (3.0.2)\n"
          ]
        }
      ]
    },
    {
      "cell_type": "code",
      "source": [
        "# Check if YOLOv12 is available\n",
        "try:\n",
        "    # Try to list available YOLO versions\n",
        "    print(\"Checking available YOLO versions...\")\n",
        "\n",
        "    from ultralytics import YOLO\n",
        "    import ultralytics\n",
        "    print(f\"Ultralytics version: {ultralytics.__version__}\")\n",
        "\n",
        "    # Try to load YOLOv12 specifically\n",
        "    try:\n",
        "        model = YOLO('yolov12n.pt')  # Attempting to load YOLOv12 nano\n",
        "        print(\"Successfully loaded YOLOv12 model\")\n",
        "    except:\n",
        "        print(\"YOLOv12 model not found, checking available models...\")\n",
        "        # Fall back to latest available\n",
        "        available_models = ['yolov12n.pt', 'yolov12s.pt', 'yolov12m.pt', 'yolov12l.pt', 'yolov12x.pt',\n",
        "                            'yolov8n.pt', 'yolov8s.pt', 'yolov8m.pt', 'yolov8l.pt', 'yolov8x.pt']\n",
        "\n",
        "        for model_name in available_models:\n",
        "            try:\n",
        "                model = YOLO(model_name)\n",
        "                print(f\"Successfully loaded {model_name}\")\n",
        "                break\n",
        "            except:\n",
        "                continue\n",
        "        else:\n",
        "            print(\"Failed to load any YOLO model\")\n",
        "\n",
        "except Exception as e:\n",
        "    print(f\"Error checking YOLO versions: {e}\")"
      ],
      "metadata": {
        "colab": {
          "base_uri": "https://localhost:8080/"
        },
        "id": "B-SI6urKyL4M",
        "outputId": "496a182c-923c-493a-a74b-37735e0e18ed"
      },
      "execution_count": 11,
      "outputs": [
        {
          "output_type": "stream",
          "name": "stdout",
          "text": [
            "Checking available YOLO versions...\n",
            "Ultralytics version: 8.3.109\n",
            "YOLOv12 model not found, checking available models...\n",
            "Downloading https://github.com/ultralytics/assets/releases/download/v8.3.0/yolov8n.pt to 'yolov8n.pt'...\n"
          ]
        },
        {
          "output_type": "stream",
          "name": "stderr",
          "text": [
            "100%|██████████| 6.25M/6.25M [00:00<00:00, 47.8MB/s]\n"
          ]
        },
        {
          "output_type": "stream",
          "name": "stdout",
          "text": [
            "Successfully loaded yolov8n.pt\n"
          ]
        }
      ]
    },
    {
      "cell_type": "code",
      "source": [
        "# Configure and start training\n",
        "try:\n",
        "    # Initialize model with YOLOv12\n",
        "    model = YOLO('yolov12n.pt')  # Use the nano version first\n",
        "\n",
        "    # YOLOv12 specific training configuration\n",
        "    results = model.train(\n",
        "        data=yaml_path,\n",
        "        epochs=50,\n",
        "        patience=10,\n",
        "        batch=8,\n",
        "        imgsz=640,\n",
        "        pretrained=True,\n",
        "        optimizer='SGD',\n",
        "        lr0=1e-3,\n",
        "        lrf=1e-4,\n",
        "        weight_decay=5e-4,\n",
        "        momentum=0.937,\n",
        "        warmup_epochs=3,\n",
        "        save=True,\n",
        "        save_period=5,\n",
        "        project=base_dir,\n",
        "        name='lung_cancer_model_v12',\n",
        "        exist_ok=True,\n",
        "        # YOLOv12 specific parameters\n",
        "        mosaic=0.5,  # Mosaic augmentation\n",
        "        mixup=0.5,   # Mixup augmentation\n",
        "        cutmix=0.0,  # Cutmix augmentation\n",
        "        copy_paste=0.0,  # Copy-paste augmentation\n",
        "        dropout=0.0,  # Dropout rate\n",
        "        agnostic_nms=True,  # Class-agnostic NMS\n",
        "        verbose=True,  # Print verbose output\n",
        "        resume=False  # Resume training from last checkpoint\n",
        "    )\n",
        "    print(\"Training completed successfully\")\n",
        "except Exception as e:\n",
        "    print(f\"Error during training: {e}\")\n",
        "    print(\"Falling back to best available YOLO model...\")\n",
        "    try:\n",
        "        # Try with YOLOv8 or best available version\n",
        "        model = YOLO('yolov8n.pt')\n",
        "        results = model.train(\n",
        "            data=yaml_path,\n",
        "            epochs=50,\n",
        "            patience=10,\n",
        "            batch=8,\n",
        "            imgsz=640,\n",
        "            pretrained=True,\n",
        "        )\n",
        "        print(\"Training completed with fallback model\")\n",
        "    except Exception as e2:\n",
        "        print(f\"Error during fallback training: {e2}\")"
      ],
      "metadata": {
        "colab": {
          "base_uri": "https://localhost:8080/"
        },
        "id": "PmqjFTgCyL13",
        "outputId": "ec52e398-2294-4d80-80cc-bb65140f903c"
      },
      "execution_count": 12,
      "outputs": [
        {
          "output_type": "stream",
          "name": "stdout",
          "text": [
            "Error during training: [Errno 2] No such file or directory: 'yolov12n.pt'\n",
            "Falling back to best available YOLO model...\n",
            "Ultralytics 8.3.109 🚀 Python-3.11.12 torch-2.6.0+cu124 CUDA:0 (Tesla T4, 15095MiB)\n",
            "\u001b[34m\u001b[1mengine/trainer: \u001b[0mtask=detect, mode=train, model=yolov8n.pt, data=/content/lung_cancer_yolo/lung_cancer_data.yaml, epochs=50, time=None, patience=10, batch=8, imgsz=640, save=True, save_period=-1, cache=False, device=None, workers=8, project=None, name=train, exist_ok=False, pretrained=True, optimizer=auto, verbose=True, seed=0, deterministic=True, single_cls=False, rect=False, cos_lr=False, close_mosaic=10, resume=False, amp=True, fraction=1.0, profile=False, freeze=None, multi_scale=False, overlap_mask=True, mask_ratio=4, dropout=0.0, val=True, split=val, save_json=False, conf=None, iou=0.7, max_det=300, half=False, dnn=False, plots=True, source=None, vid_stride=1, stream_buffer=False, visualize=False, augment=False, agnostic_nms=False, classes=None, retina_masks=False, embed=None, show=False, save_frames=False, save_txt=False, save_conf=False, save_crop=False, show_labels=True, show_conf=True, show_boxes=True, line_width=None, format=torchscript, keras=False, optimize=False, int8=False, dynamic=False, simplify=True, opset=None, workspace=None, nms=False, lr0=0.01, lrf=0.01, momentum=0.937, weight_decay=0.0005, warmup_epochs=3.0, warmup_momentum=0.8, warmup_bias_lr=0.1, box=7.5, cls=0.5, dfl=1.5, pose=12.0, kobj=1.0, nbs=64, hsv_h=0.015, hsv_s=0.7, hsv_v=0.4, degrees=0.0, translate=0.1, scale=0.5, shear=0.0, perspective=0.0, flipud=0.0, fliplr=0.5, bgr=0.0, mosaic=1.0, mixup=0.0, copy_paste=0.0, copy_paste_mode=flip, auto_augment=randaugment, erasing=0.4, cfg=None, tracker=botsort.yaml, save_dir=runs/detect/train\n",
            "Downloading https://ultralytics.com/assets/Arial.ttf to '/root/.config/Ultralytics/Arial.ttf'...\n"
          ]
        },
        {
          "output_type": "stream",
          "name": "stderr",
          "text": [
            "100%|██████████| 755k/755k [00:00<00:00, 28.9MB/s]\n"
          ]
        },
        {
          "output_type": "stream",
          "name": "stdout",
          "text": [
            "Overriding model.yaml nc=80 with nc=3\n",
            "\n",
            "                   from  n    params  module                                       arguments                     \n",
            "  0                  -1  1       464  ultralytics.nn.modules.conv.Conv             [3, 16, 3, 2]                 \n",
            "  1                  -1  1      4672  ultralytics.nn.modules.conv.Conv             [16, 32, 3, 2]                \n",
            "  2                  -1  1      7360  ultralytics.nn.modules.block.C2f             [32, 32, 1, True]             \n",
            "  3                  -1  1     18560  ultralytics.nn.modules.conv.Conv             [32, 64, 3, 2]                \n",
            "  4                  -1  2     49664  ultralytics.nn.modules.block.C2f             [64, 64, 2, True]             \n",
            "  5                  -1  1     73984  ultralytics.nn.modules.conv.Conv             [64, 128, 3, 2]               \n",
            "  6                  -1  2    197632  ultralytics.nn.modules.block.C2f             [128, 128, 2, True]           \n",
            "  7                  -1  1    295424  ultralytics.nn.modules.conv.Conv             [128, 256, 3, 2]              \n",
            "  8                  -1  1    460288  ultralytics.nn.modules.block.C2f             [256, 256, 1, True]           \n",
            "  9                  -1  1    164608  ultralytics.nn.modules.block.SPPF            [256, 256, 5]                 \n",
            " 10                  -1  1         0  torch.nn.modules.upsampling.Upsample         [None, 2, 'nearest']          \n",
            " 11             [-1, 6]  1         0  ultralytics.nn.modules.conv.Concat           [1]                           \n",
            " 12                  -1  1    148224  ultralytics.nn.modules.block.C2f             [384, 128, 1]                 \n",
            " 13                  -1  1         0  torch.nn.modules.upsampling.Upsample         [None, 2, 'nearest']          \n",
            " 14             [-1, 4]  1         0  ultralytics.nn.modules.conv.Concat           [1]                           \n",
            " 15                  -1  1     37248  ultralytics.nn.modules.block.C2f             [192, 64, 1]                  \n",
            " 16                  -1  1     36992  ultralytics.nn.modules.conv.Conv             [64, 64, 3, 2]                \n",
            " 17            [-1, 12]  1         0  ultralytics.nn.modules.conv.Concat           [1]                           \n",
            " 18                  -1  1    123648  ultralytics.nn.modules.block.C2f             [192, 128, 1]                 \n",
            " 19                  -1  1    147712  ultralytics.nn.modules.conv.Conv             [128, 128, 3, 2]              \n",
            " 20             [-1, 9]  1         0  ultralytics.nn.modules.conv.Concat           [1]                           \n",
            " 21                  -1  1    493056  ultralytics.nn.modules.block.C2f             [384, 256, 1]                 \n",
            " 22        [15, 18, 21]  1    751897  ultralytics.nn.modules.head.Detect           [3, [64, 128, 256]]           \n",
            "Model summary: 129 layers, 3,011,433 parameters, 3,011,417 gradients, 8.2 GFLOPs\n",
            "\n",
            "Transferred 319/355 items from pretrained weights\n",
            "\u001b[34m\u001b[1mTensorBoard: \u001b[0mStart with 'tensorboard --logdir runs/detect/train', view at http://localhost:6006/\n",
            "Freezing layer 'model.22.dfl.conv.weight'\n",
            "\u001b[34m\u001b[1mAMP: \u001b[0mrunning Automatic Mixed Precision (AMP) checks...\n",
            "Downloading https://github.com/ultralytics/assets/releases/download/v8.3.0/yolo11n.pt to 'yolo11n.pt'...\n"
          ]
        },
        {
          "output_type": "stream",
          "name": "stderr",
          "text": [
            "100%|██████████| 5.35M/5.35M [00:00<00:00, 108MB/s]\n"
          ]
        },
        {
          "output_type": "stream",
          "name": "stdout",
          "text": [
            "\u001b[34m\u001b[1mAMP: \u001b[0mchecks passed ✅\n"
          ]
        },
        {
          "output_type": "stream",
          "name": "stderr",
          "text": [
            "\u001b[34m\u001b[1mtrain: \u001b[0mScanning /content/lung_cancer_yolo/train... 14 images, 0 backgrounds, 0 corrupt: 100%|██████████| 14/14 [00:00<00:00, 1948.19it/s]"
          ]
        },
        {
          "output_type": "stream",
          "name": "stdout",
          "text": [
            "\u001b[34m\u001b[1mtrain: \u001b[0mNew cache created: /content/lung_cancer_yolo/train.cache\n"
          ]
        },
        {
          "output_type": "stream",
          "name": "stderr",
          "text": [
            "\n"
          ]
        },
        {
          "output_type": "stream",
          "name": "stdout",
          "text": [
            "\u001b[34m\u001b[1malbumentations: \u001b[0mBlur(p=0.01, blur_limit=(3, 7)), MedianBlur(p=0.01, blur_limit=(3, 7)), ToGray(p=0.01, num_output_channels=3, method='weighted_average'), CLAHE(p=0.01, clip_limit=(1.0, 4.0), tile_grid_size=(8, 8))\n"
          ]
        },
        {
          "output_type": "stream",
          "name": "stderr",
          "text": [
            "\u001b[34m\u001b[1mval: \u001b[0mScanning /content/lung_cancer_yolo/val... 4 images, 0 backgrounds, 0 corrupt: 100%|██████████| 4/4 [00:00<00:00, 1499.57it/s]"
          ]
        },
        {
          "output_type": "stream",
          "name": "stdout",
          "text": [
            "\u001b[34m\u001b[1mval: \u001b[0mNew cache created: /content/lung_cancer_yolo/val.cache\n"
          ]
        },
        {
          "output_type": "stream",
          "name": "stderr",
          "text": [
            "\n"
          ]
        },
        {
          "output_type": "stream",
          "name": "stdout",
          "text": [
            "Plotting labels to runs/detect/train/labels.jpg... \n",
            "\u001b[34m\u001b[1moptimizer:\u001b[0m 'optimizer=auto' found, ignoring 'lr0=0.01' and 'momentum=0.937' and determining best 'optimizer', 'lr0' and 'momentum' automatically... \n",
            "\u001b[34m\u001b[1moptimizer:\u001b[0m AdamW(lr=0.001429, momentum=0.9) with parameter groups 57 weight(decay=0.0), 64 weight(decay=0.0005), 63 bias(decay=0.0)\n",
            "\u001b[34m\u001b[1mTensorBoard: \u001b[0mmodel graph visualization added ✅\n",
            "Image sizes 640 train, 640 val\n",
            "Using 2 dataloader workers\n",
            "Logging results to \u001b[1mruns/detect/train\u001b[0m\n",
            "Starting training for 50 epochs...\n",
            "\n",
            "      Epoch    GPU_mem   box_loss   cls_loss   dfl_loss  Instances       Size\n"
          ]
        },
        {
          "output_type": "stream",
          "name": "stderr",
          "text": [
            "       1/50      1.13G     0.8479      4.274     0.8918          6        640: 100%|██████████| 2/2 [00:01<00:00,  1.25it/s]\n",
            "                 Class     Images  Instances      Box(P          R      mAP50  mAP50-95): 100%|██████████| 1/1 [00:01<00:00,  1.33s/it]"
          ]
        },
        {
          "output_type": "stream",
          "name": "stdout",
          "text": [
            "                   all          4          4          0          0          0          0\n",
            "\n",
            "      Epoch    GPU_mem   box_loss   cls_loss   dfl_loss  Instances       Size\n"
          ]
        },
        {
          "output_type": "stream",
          "name": "stderr",
          "text": [
            "\n",
            "       2/50      1.13G     0.9218       4.89     0.9969          6        640: 100%|██████████| 2/2 [00:00<00:00,  5.01it/s]\n",
            "                 Class     Images  Instances      Box(P          R      mAP50  mAP50-95): 100%|██████████| 1/1 [00:00<00:00, 16.32it/s]"
          ]
        },
        {
          "output_type": "stream",
          "name": "stdout",
          "text": [
            "                   all          4          4          0          0          0          0\n"
          ]
        },
        {
          "output_type": "stream",
          "name": "stderr",
          "text": [
            "\n"
          ]
        },
        {
          "output_type": "stream",
          "name": "stdout",
          "text": [
            "\n",
            "      Epoch    GPU_mem   box_loss   cls_loss   dfl_loss  Instances       Size\n"
          ]
        },
        {
          "output_type": "stream",
          "name": "stderr",
          "text": [
            "       3/50      1.13G      1.101      4.704     0.9109         10        640: 100%|██████████| 2/2 [00:00<00:00,  7.18it/s]\n",
            "                 Class     Images  Instances      Box(P          R      mAP50  mAP50-95): 100%|██████████| 1/1 [00:00<00:00, 16.71it/s]"
          ]
        },
        {
          "output_type": "stream",
          "name": "stdout",
          "text": [
            "                   all          4          4          0          0          0          0\n"
          ]
        },
        {
          "output_type": "stream",
          "name": "stderr",
          "text": [
            "\n"
          ]
        },
        {
          "output_type": "stream",
          "name": "stdout",
          "text": [
            "\n",
            "      Epoch    GPU_mem   box_loss   cls_loss   dfl_loss  Instances       Size\n"
          ]
        },
        {
          "output_type": "stream",
          "name": "stderr",
          "text": [
            "       4/50      1.14G     0.8773      5.431     0.8696          5        640: 100%|██████████| 2/2 [00:00<00:00,  6.17it/s]\n",
            "                 Class     Images  Instances      Box(P          R      mAP50  mAP50-95): 100%|██████████| 1/1 [00:00<00:00, 10.55it/s]"
          ]
        },
        {
          "output_type": "stream",
          "name": "stdout",
          "text": [
            "                   all          4          4          0          0          0          0\n"
          ]
        },
        {
          "output_type": "stream",
          "name": "stderr",
          "text": [
            "\n"
          ]
        },
        {
          "output_type": "stream",
          "name": "stdout",
          "text": [
            "\n",
            "      Epoch    GPU_mem   box_loss   cls_loss   dfl_loss  Instances       Size\n"
          ]
        },
        {
          "output_type": "stream",
          "name": "stderr",
          "text": [
            "       5/50      1.15G     0.9032      4.598     0.8397         10        640: 100%|██████████| 2/2 [00:00<00:00,  4.75it/s]\n",
            "                 Class     Images  Instances      Box(P          R      mAP50  mAP50-95): 100%|██████████| 1/1 [00:00<00:00, 12.65it/s]"
          ]
        },
        {
          "output_type": "stream",
          "name": "stdout",
          "text": [
            "                   all          4          4     0.0028      0.667     0.0904     0.0117\n"
          ]
        },
        {
          "output_type": "stream",
          "name": "stderr",
          "text": [
            "\n"
          ]
        },
        {
          "output_type": "stream",
          "name": "stdout",
          "text": [
            "\n",
            "      Epoch    GPU_mem   box_loss   cls_loss   dfl_loss  Instances       Size\n"
          ]
        },
        {
          "output_type": "stream",
          "name": "stderr",
          "text": [
            "       6/50      1.19G     0.7651       4.36     0.8686          8        640: 100%|██████████| 2/2 [00:00<00:00,  7.61it/s]\n",
            "                 Class     Images  Instances      Box(P          R      mAP50  mAP50-95): 100%|██████████| 1/1 [00:00<00:00, 15.85it/s]"
          ]
        },
        {
          "output_type": "stream",
          "name": "stdout",
          "text": [
            "                   all          4          4    0.00372      0.833      0.664      0.465\n"
          ]
        },
        {
          "output_type": "stream",
          "name": "stderr",
          "text": [
            "\n"
          ]
        },
        {
          "output_type": "stream",
          "name": "stdout",
          "text": [
            "\n",
            "      Epoch    GPU_mem   box_loss   cls_loss   dfl_loss  Instances       Size\n"
          ]
        },
        {
          "output_type": "stream",
          "name": "stderr",
          "text": [
            "       7/50       1.2G     0.8534      4.422     0.8506          9        640: 100%|██████████| 2/2 [00:00<00:00,  6.43it/s]\n",
            "                 Class     Images  Instances      Box(P          R      mAP50  mAP50-95): 100%|██████████| 1/1 [00:00<00:00, 17.01it/s]"
          ]
        },
        {
          "output_type": "stream",
          "name": "stdout",
          "text": [
            "                   all          4          4    0.00466          1      0.769       0.43\n"
          ]
        },
        {
          "output_type": "stream",
          "name": "stderr",
          "text": [
            "\n"
          ]
        },
        {
          "output_type": "stream",
          "name": "stdout",
          "text": [
            "\n",
            "      Epoch    GPU_mem   box_loss   cls_loss   dfl_loss  Instances       Size\n"
          ]
        },
        {
          "output_type": "stream",
          "name": "stderr",
          "text": [
            "       8/50      1.22G     0.6871      4.072     0.8593          6        640: 100%|██████████| 2/2 [00:00<00:00,  7.71it/s]\n",
            "                 Class     Images  Instances      Box(P          R      mAP50  mAP50-95): 100%|██████████| 1/1 [00:00<00:00, 18.25it/s]"
          ]
        },
        {
          "output_type": "stream",
          "name": "stdout",
          "text": [
            "                   all          4          4    0.00473          1      0.781      0.447\n"
          ]
        },
        {
          "output_type": "stream",
          "name": "stderr",
          "text": [
            "\n"
          ]
        },
        {
          "output_type": "stream",
          "name": "stdout",
          "text": [
            "\n",
            "      Epoch    GPU_mem   box_loss   cls_loss   dfl_loss  Instances       Size\n"
          ]
        },
        {
          "output_type": "stream",
          "name": "stderr",
          "text": [
            "       9/50      1.24G     0.7557      3.361     0.8523          9        640: 100%|██████████| 2/2 [00:00<00:00,  6.97it/s]\n",
            "                 Class     Images  Instances      Box(P          R      mAP50  mAP50-95): 100%|██████████| 1/1 [00:00<00:00, 17.14it/s]"
          ]
        },
        {
          "output_type": "stream",
          "name": "stdout",
          "text": [
            "                   all          4          4    0.00513          1       0.79      0.544\n"
          ]
        },
        {
          "output_type": "stream",
          "name": "stderr",
          "text": [
            "\n"
          ]
        },
        {
          "output_type": "stream",
          "name": "stdout",
          "text": [
            "\n",
            "      Epoch    GPU_mem   box_loss   cls_loss   dfl_loss  Instances       Size\n"
          ]
        },
        {
          "output_type": "stream",
          "name": "stderr",
          "text": [
            "      10/50      1.25G     0.7118      3.239     0.8128          9        640: 100%|██████████| 2/2 [00:00<00:00,  7.31it/s]\n",
            "                 Class     Images  Instances      Box(P          R      mAP50  mAP50-95): 100%|██████████| 1/1 [00:00<00:00, 17.59it/s]"
          ]
        },
        {
          "output_type": "stream",
          "name": "stdout",
          "text": [
            "                   all          4          4    0.00682          1       0.79      0.567\n"
          ]
        },
        {
          "output_type": "stream",
          "name": "stderr",
          "text": [
            "\n"
          ]
        },
        {
          "output_type": "stream",
          "name": "stdout",
          "text": [
            "\n",
            "      Epoch    GPU_mem   box_loss   cls_loss   dfl_loss  Instances       Size\n"
          ]
        },
        {
          "output_type": "stream",
          "name": "stderr",
          "text": [
            "      11/50      1.27G     0.8243      2.782     0.8706          9        640: 100%|██████████| 2/2 [00:00<00:00,  7.41it/s]\n",
            "                 Class     Images  Instances      Box(P          R      mAP50  mAP50-95): 100%|██████████| 1/1 [00:00<00:00, 15.35it/s]"
          ]
        },
        {
          "output_type": "stream",
          "name": "stdout",
          "text": [
            "                   all          4          4     0.0107          1      0.802      0.609\n"
          ]
        },
        {
          "output_type": "stream",
          "name": "stderr",
          "text": [
            "\n"
          ]
        },
        {
          "output_type": "stream",
          "name": "stdout",
          "text": [
            "\n",
            "      Epoch    GPU_mem   box_loss   cls_loss   dfl_loss  Instances       Size\n"
          ]
        },
        {
          "output_type": "stream",
          "name": "stderr",
          "text": [
            "      12/50      1.29G      0.642      2.845     0.8247          9        640: 100%|██████████| 2/2 [00:00<00:00,  7.87it/s]\n",
            "                 Class     Images  Instances      Box(P          R      mAP50  mAP50-95): 100%|██████████| 1/1 [00:00<00:00, 17.43it/s]"
          ]
        },
        {
          "output_type": "stream",
          "name": "stdout",
          "text": [
            "                   all          4          4     0.0107          1      0.802      0.609\n"
          ]
        },
        {
          "output_type": "stream",
          "name": "stderr",
          "text": [
            "\n"
          ]
        },
        {
          "output_type": "stream",
          "name": "stdout",
          "text": [
            "\n",
            "      Epoch    GPU_mem   box_loss   cls_loss   dfl_loss  Instances       Size\n"
          ]
        },
        {
          "output_type": "stream",
          "name": "stderr",
          "text": [
            "      13/50      1.31G     0.5318      3.312     0.8398          7        640: 100%|██████████| 2/2 [00:00<00:00,  5.02it/s]\n",
            "                 Class     Images  Instances      Box(P          R      mAP50  mAP50-95): 100%|██████████| 1/1 [00:00<00:00,  9.37it/s]"
          ]
        },
        {
          "output_type": "stream",
          "name": "stdout",
          "text": [
            "                   all          4          4     0.0121          1      0.871      0.639\n"
          ]
        },
        {
          "output_type": "stream",
          "name": "stderr",
          "text": [
            "\n"
          ]
        },
        {
          "output_type": "stream",
          "name": "stdout",
          "text": [
            "\n",
            "      Epoch    GPU_mem   box_loss   cls_loss   dfl_loss  Instances       Size\n"
          ]
        },
        {
          "output_type": "stream",
          "name": "stderr",
          "text": [
            "      14/50      1.33G     0.6782      3.804      0.825          4        640: 100%|██████████| 2/2 [00:00<00:00,  4.56it/s]\n",
            "                 Class     Images  Instances      Box(P          R      mAP50  mAP50-95): 100%|██████████| 1/1 [00:00<00:00, 17.57it/s]"
          ]
        },
        {
          "output_type": "stream",
          "name": "stdout",
          "text": [
            "                   all          4          4     0.0117          1      0.726      0.474\n"
          ]
        },
        {
          "output_type": "stream",
          "name": "stderr",
          "text": [
            "\n"
          ]
        },
        {
          "output_type": "stream",
          "name": "stdout",
          "text": [
            "\n",
            "      Epoch    GPU_mem   box_loss   cls_loss   dfl_loss  Instances       Size\n"
          ]
        },
        {
          "output_type": "stream",
          "name": "stderr",
          "text": [
            "      15/50      1.34G     0.5047      2.976     0.7898          7        640: 100%|██████████| 2/2 [00:00<00:00,  4.66it/s]\n",
            "                 Class     Images  Instances      Box(P          R      mAP50  mAP50-95): 100%|██████████| 1/1 [00:00<00:00, 18.18it/s]"
          ]
        },
        {
          "output_type": "stream",
          "name": "stdout",
          "text": [
            "                   all          4          4     0.0117          1      0.726      0.474\n"
          ]
        },
        {
          "output_type": "stream",
          "name": "stderr",
          "text": [
            "\n"
          ]
        },
        {
          "output_type": "stream",
          "name": "stdout",
          "text": [
            "\n",
            "      Epoch    GPU_mem   box_loss   cls_loss   dfl_loss  Instances       Size\n"
          ]
        },
        {
          "output_type": "stream",
          "name": "stderr",
          "text": [
            "      16/50      1.36G     0.7899      2.573     0.8709          7        640: 100%|██████████| 2/2 [00:00<00:00,  4.13it/s]\n",
            "                 Class     Images  Instances      Box(P          R      mAP50  mAP50-95): 100%|██████████| 1/1 [00:00<00:00,  8.77it/s]"
          ]
        },
        {
          "output_type": "stream",
          "name": "stdout",
          "text": [
            "                   all          4          4     0.0098          1      0.514      0.306\n"
          ]
        },
        {
          "output_type": "stream",
          "name": "stderr",
          "text": [
            "\n"
          ]
        },
        {
          "output_type": "stream",
          "name": "stdout",
          "text": [
            "\n",
            "      Epoch    GPU_mem   box_loss   cls_loss   dfl_loss  Instances       Size\n"
          ]
        },
        {
          "output_type": "stream",
          "name": "stderr",
          "text": [
            "      17/50      1.38G      0.635      3.796     0.7643          8        640: 100%|██████████| 2/2 [00:00<00:00,  6.71it/s]\n",
            "                 Class     Images  Instances      Box(P          R      mAP50  mAP50-95): 100%|██████████| 1/1 [00:00<00:00, 17.26it/s]"
          ]
        },
        {
          "output_type": "stream",
          "name": "stdout",
          "text": [
            "                   all          4          4    0.00368      0.667      0.503      0.253\n"
          ]
        },
        {
          "output_type": "stream",
          "name": "stderr",
          "text": [
            "\n"
          ]
        },
        {
          "output_type": "stream",
          "name": "stdout",
          "text": [
            "\n",
            "      Epoch    GPU_mem   box_loss   cls_loss   dfl_loss  Instances       Size\n"
          ]
        },
        {
          "output_type": "stream",
          "name": "stderr",
          "text": [
            "      18/50      1.39G     0.6597      3.117     0.8011          8        640: 100%|██████████| 2/2 [00:00<00:00,  7.79it/s]\n",
            "                 Class     Images  Instances      Box(P          R      mAP50  mAP50-95): 100%|██████████| 1/1 [00:00<00:00, 17.55it/s]"
          ]
        },
        {
          "output_type": "stream",
          "name": "stdout",
          "text": [
            "                   all          4          4    0.00368      0.667      0.503      0.253\n"
          ]
        },
        {
          "output_type": "stream",
          "name": "stderr",
          "text": [
            "\n"
          ]
        },
        {
          "output_type": "stream",
          "name": "stdout",
          "text": [
            "\n",
            "      Epoch    GPU_mem   box_loss   cls_loss   dfl_loss  Instances       Size\n"
          ]
        },
        {
          "output_type": "stream",
          "name": "stderr",
          "text": [
            "      19/50      1.41G     0.6566      2.477     0.8047         13        640: 100%|██████████| 2/2 [00:00<00:00,  6.58it/s]\n",
            "                 Class     Images  Instances      Box(P          R      mAP50  mAP50-95): 100%|██████████| 1/1 [00:00<00:00, 17.81it/s]"
          ]
        },
        {
          "output_type": "stream",
          "name": "stdout",
          "text": [
            "                   all          4          4    0.00335      0.667       0.26      0.157\n"
          ]
        },
        {
          "output_type": "stream",
          "name": "stderr",
          "text": [
            "\n"
          ]
        },
        {
          "output_type": "stream",
          "name": "stdout",
          "text": [
            "\n",
            "      Epoch    GPU_mem   box_loss   cls_loss   dfl_loss  Instances       Size\n"
          ]
        },
        {
          "output_type": "stream",
          "name": "stderr",
          "text": [
            "      20/50      1.42G      0.727      2.365     0.8549          9        640: 100%|██████████| 2/2 [00:00<00:00,  8.42it/s]\n",
            "                 Class     Images  Instances      Box(P          R      mAP50  mAP50-95): 100%|██████████| 1/1 [00:00<00:00, 17.38it/s]\n"
          ]
        },
        {
          "output_type": "stream",
          "name": "stdout",
          "text": [
            "                   all          4          4    0.00335      0.667       0.26      0.157\n",
            "\n",
            "      Epoch    GPU_mem   box_loss   cls_loss   dfl_loss  Instances       Size\n"
          ]
        },
        {
          "output_type": "stream",
          "name": "stderr",
          "text": [
            "      21/50      1.45G     0.6392       2.49     0.8101          8        640: 100%|██████████| 2/2 [00:00<00:00,  6.87it/s]\n",
            "                 Class     Images  Instances      Box(P          R      mAP50  mAP50-95): 100%|██████████| 1/1 [00:00<00:00, 19.06it/s]"
          ]
        },
        {
          "output_type": "stream",
          "name": "stdout",
          "text": [
            "                   all          4          4      0.003      0.667      0.261      0.128\n"
          ]
        },
        {
          "output_type": "stream",
          "name": "stderr",
          "text": [
            "\n"
          ]
        },
        {
          "output_type": "stream",
          "name": "stdout",
          "text": [
            "\n",
            "      Epoch    GPU_mem   box_loss   cls_loss   dfl_loss  Instances       Size\n"
          ]
        },
        {
          "output_type": "stream",
          "name": "stderr",
          "text": [
            "      22/50      1.46G     0.6099      2.932     0.8244          4        640: 100%|██████████| 2/2 [00:00<00:00,  8.57it/s]\n",
            "                 Class     Images  Instances      Box(P          R      mAP50  mAP50-95): 100%|██████████| 1/1 [00:00<00:00, 15.40it/s]"
          ]
        },
        {
          "output_type": "stream",
          "name": "stdout",
          "text": [
            "                   all          4          4      0.003      0.667      0.261      0.128\n"
          ]
        },
        {
          "output_type": "stream",
          "name": "stderr",
          "text": [
            "\n"
          ]
        },
        {
          "output_type": "stream",
          "name": "stdout",
          "text": [
            "\n",
            "      Epoch    GPU_mem   box_loss   cls_loss   dfl_loss  Instances       Size\n"
          ]
        },
        {
          "output_type": "stream",
          "name": "stderr",
          "text": [
            "      23/50      1.48G     0.6221      3.065     0.7913          6        640: 100%|██████████| 2/2 [00:00<00:00,  7.30it/s]\n",
            "                 Class     Images  Instances      Box(P          R      mAP50  mAP50-95): 100%|██████████| 1/1 [00:00<00:00, 18.50it/s]"
          ]
        },
        {
          "output_type": "stream",
          "name": "stdout",
          "text": [
            "                   all          4          4    0.00276      0.667      0.333      0.208\n",
            "\u001b[34m\u001b[1mEarlyStopping: \u001b[0mTraining stopped early as no improvement observed in last 10 epochs. Best results observed at epoch 13, best model saved as best.pt.\n",
            "To update EarlyStopping(patience=10) pass a new patience value, i.e. `patience=300` or use `patience=0` to disable EarlyStopping.\n"
          ]
        },
        {
          "output_type": "stream",
          "name": "stderr",
          "text": [
            "\n"
          ]
        },
        {
          "output_type": "stream",
          "name": "stdout",
          "text": [
            "\n",
            "23 epochs completed in 0.006 hours.\n",
            "Optimizer stripped from runs/detect/train/weights/last.pt, 6.2MB\n",
            "Optimizer stripped from runs/detect/train/weights/best.pt, 6.2MB\n",
            "\n",
            "Validating runs/detect/train/weights/best.pt...\n",
            "Ultralytics 8.3.109 🚀 Python-3.11.12 torch-2.6.0+cu124 CUDA:0 (Tesla T4, 15095MiB)\n",
            "Model summary (fused): 72 layers, 3,006,233 parameters, 0 gradients, 8.1 GFLOPs\n"
          ]
        },
        {
          "output_type": "stream",
          "name": "stderr",
          "text": [
            "                 Class     Images  Instances      Box(P          R      mAP50  mAP50-95): 100%|██████████| 1/1 [00:00<00:00, 19.51it/s]\n"
          ]
        },
        {
          "output_type": "stream",
          "name": "stdout",
          "text": [
            "                   all          4          4     0.0122          1      0.871      0.689\n",
            "           Lung cancer          1          1    0.00196          1      0.995      0.995\n",
            "           Lung nodule          3          3     0.0224          1      0.746      0.383\n",
            "Speed: 0.3ms preprocess, 3.3ms inference, 0.0ms loss, 2.2ms postprocess per image\n",
            "Results saved to \u001b[1mruns/detect/train\u001b[0m\n",
            "Training completed with fallback model\n"
          ]
        }
      ]
    },
    {
      "cell_type": "code",
      "source": [
        "# Evaluate the model\n",
        "try:\n",
        "    val_results = model.val()\n",
        "    print(f\"mAP50-95: {val_results.box.map}\")\n",
        "    print(f\"Precision: {val_results.box.precision}\")\n",
        "    print(f\"Recall: {val_results.box.recall}\")\n",
        "except Exception as e:\n",
        "    print(f\"Error during validation: {e}\")"
      ],
      "metadata": {
        "colab": {
          "base_uri": "https://localhost:8080/"
        },
        "id": "4nV07triyvGa",
        "outputId": "bfd0ebd0-ab05-480d-cbd8-e63b4ad6b435"
      },
      "execution_count": 13,
      "outputs": [
        {
          "output_type": "stream",
          "name": "stdout",
          "text": [
            "Ultralytics 8.3.109 🚀 Python-3.11.12 torch-2.6.0+cu124 CUDA:0 (Tesla T4, 15095MiB)\n",
            "Model summary (fused): 72 layers, 3,006,233 parameters, 0 gradients, 8.1 GFLOPs\n"
          ]
        },
        {
          "output_type": "stream",
          "name": "stderr",
          "text": [
            "\u001b[34m\u001b[1mval: \u001b[0mScanning /content/lung_cancer_yolo/val.cache... 4 images, 0 backgrounds, 0 corrupt: 100%|██████████| 4/4 [00:00<?, ?it/s]\n",
            "                 Class     Images  Instances      Box(P          R      mAP50  mAP50-95): 100%|██████████| 1/1 [00:00<00:00,  7.82it/s]\n"
          ]
        },
        {
          "output_type": "stream",
          "name": "stdout",
          "text": [
            "                   all          4          4     0.0117          1      0.871      0.689\n",
            "           Lung cancer          1          1    0.00197          1      0.995      0.995\n",
            "           Lung nodule          3          3     0.0214          1      0.746      0.383\n",
            "Speed: 4.9ms preprocess, 15.8ms inference, 0.0ms loss, 2.1ms postprocess per image\n",
            "Results saved to \u001b[1mruns/detect/train2\u001b[0m\n",
            "mAP50-95: 0.6888523214285714\n",
            "Error during validation: 'Metric' object has no attribute 'precision'. See valid attributes below.\n",
            "\n",
            "    Class for computing evaluation metrics for YOLOv8 model.\n",
            "\n",
            "    Attributes:\n",
            "        p (list): Precision for each class. Shape: (nc,).\n",
            "        r (list): Recall for each class. Shape: (nc,).\n",
            "        f1 (list): F1 score for each class. Shape: (nc,).\n",
            "        all_ap (list): AP scores for all classes and all IoU thresholds. Shape: (nc, 10).\n",
            "        ap_class_index (list): Index of class for each AP score. Shape: (nc,).\n",
            "        nc (int): Number of classes.\n",
            "\n",
            "    Methods:\n",
            "        ap50(): AP at IoU threshold of 0.5 for all classes. Returns: List of AP scores. Shape: (nc,) or [].\n",
            "        ap(): AP at IoU thresholds from 0.5 to 0.95 for all classes. Returns: List of AP scores. Shape: (nc,) or [].\n",
            "        mp(): Mean precision of all classes. Returns: Float.\n",
            "        mr(): Mean recall of all classes. Returns: Float.\n",
            "        map50(): Mean AP at IoU threshold of 0.5 for all classes. Returns: Float.\n",
            "        map75(): Mean AP at IoU threshold of 0.75 for all classes. Returns: Float.\n",
            "        map(): Mean AP at IoU thresholds from 0.5 to 0.95 for all classes. Returns: Float.\n",
            "        mean_results(): Mean of results, returns mp, mr, map50, map.\n",
            "        class_result(i): Class-aware result, returns p[i], r[i], ap50[i], ap[i].\n",
            "        maps(): mAP of each class. Returns: Array of mAP scores, shape: (nc,).\n",
            "        fitness(): Model fitness as a weighted combination of metrics. Returns: Float.\n",
            "        update(results): Update metric attributes with new evaluation results.\n",
            "    \n"
          ]
        }
      ]
    },
    {
      "cell_type": "code",
      "source": [
        "# Test inference on a sample image\n",
        "test_images = glob.glob(f\"{test_dir}/*.png\")\n",
        "if test_images:\n",
        "    test_img = test_images[0]\n",
        "    print(f\"Running inference on {test_img}\")\n",
        "\n",
        "    try:\n",
        "        results = model.predict(test_img, conf=0.25)\n",
        "\n",
        "        # Display results\n",
        "        img = cv2.imread(test_img)\n",
        "        img = cv2.cvtColor(img, cv2.COLOR_BGR2RGB)\n",
        "\n",
        "        plt.figure(figsize=(10, 10))\n",
        "        plt.imshow(img)\n",
        "\n",
        "        for result in results:\n",
        "            boxes = result.boxes.xyxy.cpu().numpy()\n",
        "            confs = result.boxes.conf.cpu().numpy()\n",
        "            cls = result.boxes.cls.cpu().numpy().astype(int)\n",
        "\n",
        "            for box, conf, cl in zip(boxes, confs, cls):\n",
        "                x1, y1, x2, y2 = box.astype(int)\n",
        "                class_name = class_names.get(cl, f\"Class {cl}\")\n",
        "                plt.gca().add_patch(plt.Rectangle((x1, y1), x2-x1, y2-y1,\n",
        "                                                fill=False, edgecolor='red', linewidth=2))\n",
        "                plt.text(x1, y1-10, f\"{class_name} {conf:.2f}\",\n",
        "                        color='white', fontsize=12, backgroundcolor='red')\n",
        "\n",
        "        plt.title(\"YOLOv12 Model Prediction\")\n",
        "        plt.axis('off')\n",
        "        plt.savefig(f'{base_dir}/sample_prediction_v12.png')\n",
        "        plt.show()\n",
        "\n",
        "        print(\"Inference completed successfully\")\n",
        "    except Exception as e:\n",
        "        print(f\"Error during inference: {e}\")\n",
        "else:\n",
        "    print(\"No test images found\")"
      ],
      "metadata": {
        "colab": {
          "base_uri": "https://localhost:8080/",
          "height": 918
        },
        "id": "HbR4_dE0yLzR",
        "outputId": "550f04b5-283b-4776-c301-f5f354d2ebc5"
      },
      "execution_count": 14,
      "outputs": [
        {
          "output_type": "stream",
          "name": "stdout",
          "text": [
            "Running inference on /content/lung_cancer_yolo/test/synthetic_lung_2.png\n",
            "\n",
            "image 1/1 /content/lung_cancer_yolo/test/synthetic_lung_2.png: 640x640 (no detections), 12.0ms\n",
            "Speed: 6.6ms preprocess, 12.0ms inference, 1.0ms postprocess per image at shape (1, 3, 640, 640)\n"
          ]
        },
        {
          "output_type": "display_data",
          "data": {
            "text/plain": [
              "<Figure size 1000x1000 with 1 Axes>"
            ],
            "image/png": "[encoded data removed]"
          },
          "metadata": {}
        },
        {
          "output_type": "stream",
          "name": "stdout",
          "text": [
            "Inference completed successfully\n"
          ]
        }
      ]
    },
    {
      "cell_type": "code",
      "source": [
        "# Export model for deployment\n",
        "try:\n",
        "    model.export(format='onnx', dynamic=True)\n",
        "    print(f\"YOLOv12 model exported successfully\")\n",
        "except Exception as e:\n",
        "    print(f\"Error exporting model: {e}\")"
      ],
      "metadata": {
        "colab": {
          "base_uri": "https://localhost:8080/"
        },
        "id": "FhCsskHlyxLN",
        "outputId": "43f3a560-4f75-4c33-cf34-2d062def60b2"
      },
      "execution_count": 15,
      "outputs": [
        {
          "output_type": "stream",
          "name": "stdout",
          "text": [
            "Ultralytics 8.3.109 🚀 Python-3.11.12 torch-2.6.0+cu124 CPU (Intel Xeon 2.00GHz)\n",
            "\n",
            "\u001b[34m\u001b[1mPyTorch:\u001b[0m starting from 'runs/detect/train/weights/best.pt' with input shape (1, 3, 640, 640) BCHW and output shape(s) (1, 7, 8400) (6.0 MB)\n",
            "\u001b[31m\u001b[1mrequirements:\u001b[0m Ultralytics requirements ['onnx>=1.12.0', 'onnxslim', 'onnxruntime-gpu'] not found, attempting AutoUpdate...\n",
            "Collecting onnx>=1.12.0\n",
            "  Downloading onnx-1.17.0-cp311-cp311-manylinux_2_17_x86_64.manylinux2014_x86_64.whl.metadata (16 kB)\n",
            "Collecting onnxslim\n",
            "  Downloading onnxslim-0.1.50-py3-none-any.whl.metadata (4.8 kB)\n",
            "Collecting onnxruntime-gpu\n",
            "  Downloading onnxruntime_gpu-1.21.0-cp311-cp311-manylinux_2_27_x86_64.manylinux_2_28_x86_64.whl.metadata (4.8 kB)\n",
            "Requirement already satisfied: numpy>=1.20 in /usr/local/lib/python3.11/dist-packages (from onnx>=1.12.0) (2.0.2)\n",
            "Requirement already satisfied: protobuf>=3.20.2 in /usr/local/lib/python3.11/dist-packages (from onnx>=1.12.0) (5.29.4)\n",
            "Requirement already satisfied: sympy in /usr/local/lib/python3.11/dist-packages (from onnxslim) (1.13.1)\n",
            "Requirement already satisfied: packaging in /usr/local/lib/python3.11/dist-packages (from onnxslim) (24.2)\n",
            "Collecting coloredlogs (from onnxruntime-gpu)\n",
            "  Downloading coloredlogs-15.0.1-py2.py3-none-any.whl.metadata (12 kB)\n",
            "Requirement already satisfied: flatbuffers in /usr/local/lib/python3.11/dist-packages (from onnxruntime-gpu) (25.2.10)\n",
            "Collecting humanfriendly>=9.1 (from coloredlogs->onnxruntime-gpu)\n",
            "  Downloading humanfriendly-10.0-py2.py3-none-any.whl.metadata (9.2 kB)\n",
            "Requirement already satisfied: mpmath<1.4,>=1.1.0 in /usr/local/lib/python3.11/dist-packages (from sympy->onnxslim) (1.3.0)\n",
            "Downloading onnx-1.17.0-cp311-cp311-manylinux_2_17_x86_64.manylinux2014_x86_64.whl (16.0 MB)\n",
            "   ━━━━━━━━━━━━━━━━━━━━━━━━━━━━━━━━━━━━━━━━ 16.0/16.0 MB 184.5 MB/s eta 0:00:00\n",
            "Downloading onnxslim-0.1.50-py3-none-any.whl (144 kB)\n",
            "   ━━━━━━━━━━━━━━━━━━━━━━━━━━━━━━━━━━━━━━━ 144.5/144.5 kB 303.1 MB/s eta 0:00:00\n",
            "Downloading onnxruntime_gpu-1.21.0-cp311-cp311-manylinux_2_27_x86_64.manylinux_2_28_x86_64.whl (280.8 MB)\n",
            "   ━━━━━━━━━━━━━━━━━━━━━━━━━━━━━━━━━━━━━━━ 280.8/280.8 MB 299.6 MB/s eta 0:00:00\n",
            "Downloading coloredlogs-15.0.1-py2.py3-none-any.whl (46 kB)\n",
            "   ━━━━━━━━━━━━━━━━━━━━━━━━━━━━━━━━━━━━━━━━ 46.0/46.0 kB 263.4 MB/s eta 0:00:00\n",
            "Downloading humanfriendly-10.0-py2.py3-none-any.whl (86 kB)\n",
            "   ━━━━━━━━━━━━━━━━━━━━━━━━━━━━━━━━━━━━━━━━ 86.8/86.8 kB 319.5 MB/s eta 0:00:00\n",
            "Installing collected packages: onnx, humanfriendly, onnxslim, coloredlogs, onnxruntime-gpu\n",
            "Successfully installed coloredlogs-15.0.1 humanfriendly-10.0 onnx-1.17.0 onnxruntime-gpu-1.21.0 onnxslim-0.1.50\n",
            "\n",
            "\u001b[31m\u001b[1mrequirements:\u001b[0m AutoUpdate success ✅ 14.7s, installed 3 packages: ['onnx>=1.12.0', 'onnxslim', 'onnxruntime-gpu']\n",
            "\u001b[31m\u001b[1mrequirements:\u001b[0m ⚠️ \u001b[1mRestart runtime or rerun command for updates to take effect\u001b[0m\n",
            "\n",
            "\n",
            "\u001b[34m\u001b[1mONNX:\u001b[0m starting export with onnx 1.17.0 opset 19...\n",
            "\u001b[34m\u001b[1mONNX:\u001b[0m slimming with onnxslim 0.1.50...\n",
            "\u001b[34m\u001b[1mONNX:\u001b[0m export success ✅ 34.3s, saved as 'runs/detect/train/weights/best.onnx' (11.6 MB)\n",
            "\n",
            "Export complete (35.9s)\n",
            "Results saved to \u001b[1m/content/runs/detect/train/weights\u001b[0m\n",
            "Predict:         yolo predict task=detect model=runs/detect/train/weights/best.onnx imgsz=640  \n",
            "Validate:        yolo val task=detect model=runs/detect/train/weights/best.onnx imgsz=640 data=/content/lung_cancer_yolo/lung_cancer_data.yaml  \n",
            "Visualize:       https://netron.app\n",
            "YOLOv12 model exported successfully\n"
          ]
        }
      ]
    },
    {
      "cell_type": "code",
      "source": [
        "# Visualize training results\n",
        "try:\n",
        "    # Plot metrics from training\n",
        "    metrics = ['train/box_loss', 'train/cls_loss', 'train/dfl_loss',   # Training losses\n",
        "               'metrics/precision', 'metrics/recall',                  # Performance metrics\n",
        "               'val/box_loss', 'val/cls_loss', 'val/dfl_loss']         # Validation losses\n",
        "\n",
        "    plt.figure(figsize=(15, 10))\n",
        "\n",
        "    for i, metric in enumerate(metrics):\n",
        "        if metric in results.results_dict:\n",
        "            plt.subplot(3, 3, i+1)\n",
        "            plt.plot(results.results_dict[metric])\n",
        "            plt.title(metric)\n",
        "            plt.xlabel('Epoch')\n",
        "            plt.grid(True)\n",
        "\n",
        "    plt.tight_layout()\n",
        "    plt.savefig(f'{base_dir}/training_metrics_v12.png')\n",
        "    plt.show()\n",
        "\n",
        "    print(\"Training metrics visualization completed\")\n",
        "except Exception as e:\n",
        "    print(f\"Error visualizing metrics: {e}\")"
      ],
      "metadata": {
        "colab": {
          "base_uri": "https://localhost:8080/",
          "height": 53
        },
        "id": "hXdrn3KSzlUd",
        "outputId": "10eaad40-cefe-497a-dc94-376a47bd35f1"
      },
      "execution_count": 16,
      "outputs": [
        {
          "output_type": "stream",
          "name": "stdout",
          "text": [
            "Error visualizing metrics: 'list' object has no attribute 'results_dict'\n"
          ]
        },
        {
          "output_type": "display_data",
          "data": {
            "text/plain": [
              "<Figure size 1500x1000 with 0 Axes>"
            ]
          },
          "metadata": {}
        }
      ]
    },
    {
      "cell_type": "code",
      "source": [],
      "metadata": {
        "id": "8WOJ5y8mz0RA"
      },
      "execution_count": 16,
      "outputs": []
    }
  ]
}